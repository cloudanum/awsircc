{
  "cells": [
    {
      "cell_type": "code",
      "metadata": {},
      "source": [
        "#\n",
        "# Licensed to the Apache Software Foundation (ASF) under one or more\n",
        "# contributor license agreements.  See the NOTICE file distributed with\n",
        "# this work for additional information regarding copyright ownership.\n",
        "# The ASF licenses this file to You under the Apache License, Version 2.0\n",
        "# (the \"License\"); you may not use this file except in compliance with\n",
        "# the License.  You may obtain a copy of the License at\n",
        "#\n",
        "#    http://www.apache.org/licenses/LICENSE-2.0\n",
        "#\n",
        "# Unless required by applicable law or agreed to in writing, software\n",
        "# distributed under the License is distributed on an \"AS IS\" BASIS,\n",
        "# WITHOUT WARRANTIES OR CONDITIONS OF ANY KIND, either express or implied.\n",
        "# See the License for the specific language governing permissions and\n",
        "# limitations under the License.\n",
        "#\n",
        "\n",
        "from __future__ import print_function\n",
        "\n",
        "# $example on$\n",
        "from pyspark.ml.feature import OneHotEncoderEstimator\n",
        "# $example off$\n",
        "from pyspark.sql import SparkSession\n",
        "\n",
        "if __name__ == \"__main__\":\n",
        "    spark = SparkSession\\\n",
        "        .builder\\\n",
        "        .appName(\"OneHotEncoderEstimatorExample\")\\\n",
        "        .getOrCreate()\n",
        "\n",
        "    # Note: categorical features are usually first encoded with StringIndexer\n",
        "    # $example on$\n",
        "    df = spark.createDataFrame([\n",
        "        (0.0, 1.0),\n",
        "        (1.0, 0.0),\n",
        "        (2.0, 1.0),\n",
        "        (0.0, 2.0),\n",
        "        (0.0, 1.0),\n",
        "        (2.0, 0.0)\n",
        "    ], [\"categoryIndex1\", \"categoryIndex2\"])\n",
        "\n",
        "    encoder = OneHotEncoderEstimator(inputCols=[\"categoryIndex1\", \"categoryIndex2\"],\n",
        "                                     outputCols=[\"categoryVec1\", \"categoryVec2\"])\n",
        "    model = encoder.fit(df)\n",
        "    encoded = model.transform(df)\n",
        "    encoded.show()\n",
        "    # $example off$\n",
        "\n",
        "    spark.stop()\n"
      ],
      "outputs": [],
      "execution_count": null
    }
  ],
  "metadata": {
    "anaconda-cloud": {},
    "kernelspec": {
      "display_name": "Python 3",
      "language": "python",
      "name": "python3"
    },
    "language_info": {
      "codemirror_mode": {
        "name": "ipython",
        "version": 3
      },
      "file_extension": ".py",
      "mimetype": "text/x-python",
      "name": "python",
      "nbconvert_exporter": "python",
      "pygments_lexer": "ipython3",
      "version": "3.6.1"
    }
  },
  "nbformat": 4,
  "nbformat_minor": 1
}