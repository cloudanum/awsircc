{
  "cells": [
    {
      "cell_type": "code",
      "metadata": {},
      "source": [
        "#\n",
        "# Licensed to the Apache Software Foundation (ASF) under one or more\n",
        "# contributor license agreements.  See the NOTICE file distributed with\n",
        "# this work for additional information regarding copyright ownership.\n",
        "# The ASF licenses this file to You under the Apache License, Version 2.0\n",
        "# (the \"License\"); you may not use this file except in compliance with\n",
        "# the License.  You may obtain a copy of the License at\n",
        "#\n",
        "#    http://www.apache.org/licenses/LICENSE-2.0\n",
        "#\n",
        "# Unless required by applicable law or agreed to in writing, software\n",
        "# distributed under the License is distributed on an \"AS IS\" BASIS,\n",
        "# WITHOUT WARRANTIES OR CONDITIONS OF ANY KIND, either express or implied.\n",
        "# See the License for the specific language governing permissions and\n",
        "# limitations under the License.\n",
        "#\n",
        "\n",
        "\"\"\"\n",
        "An example demonstrating FPGrowth.\n",
        "Run with:\n",
        "  bin/spark-submit examples/src/main/python/ml/fpgrowth_example.py\n",
        "\"\"\"\n",
        "# $example on$\n",
        "from pyspark.ml.fpm import FPGrowth\n",
        "# $example off$\n",
        "from pyspark.sql import SparkSession\n",
        "\n",
        "if __name__ == \"__main__\":\n",
        "    spark = SparkSession\\\n",
        "        .builder\\\n",
        "        .appName(\"FPGrowthExample\")\\\n",
        "        .getOrCreate()\n",
        "\n",
        "    # $example on$\n",
        "    df = spark.createDataFrame([\n",
        "        (0, [1, 2, 5]),\n",
        "        (1, [1, 2, 3, 5]),\n",
        "        (2, [1, 2])\n",
        "    ], [\"id\", \"items\"])\n",
        "\n",
        "    fpGrowth = FPGrowth(itemsCol=\"items\", minSupport=0.5, minConfidence=0.6)\n",
        "    model = fpGrowth.fit(df)\n",
        "\n",
        "    # Display frequent itemsets.\n",
        "    model.freqItemsets.show()\n",
        "\n",
        "    # Display generated association rules.\n",
        "    model.associationRules.show()\n",
        "\n",
        "    # transform examines the input items against all the association rules and summarize the\n",
        "    # consequents as prediction\n",
        "    model.transform(df).show()\n",
        "    # $example off$\n",
        "\n",
        "    spark.stop()\n"
      ],
      "outputs": [],
      "execution_count": null
    }
  ],
  "metadata": {
    "anaconda-cloud": {},
    "kernelspec": {
      "display_name": "Python 3",
      "language": "python",
      "name": "python3"
    },
    "language_info": {
      "codemirror_mode": {
        "name": "ipython",
        "version": 3
      },
      "file_extension": ".py",
      "mimetype": "text/x-python",
      "name": "python",
      "nbconvert_exporter": "python",
      "pygments_lexer": "ipython3",
      "version": "3.6.1"
    }
  },
  "nbformat": 4,
  "nbformat_minor": 1
}